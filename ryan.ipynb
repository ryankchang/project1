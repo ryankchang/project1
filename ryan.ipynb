{
 "cells": [
  {
   "cell_type": "code",
   "execution_count": 1,
   "metadata": {},
   "outputs": [],
   "source": [
    "#Dependencies\n",
    "import numpy as np\n",
    "import pandas as pd\n",
    "import matplotlib.pyplot as plt\n",
    "import requests\n",
    "import time\n",
    "import json\n",
    "from scipy.stats import ttest_ind\n",
    "from datetime import datetime"
   ]
  },
  {
   "cell_type": "code",
   "execution_count": 2,
   "metadata": {},
   "outputs": [
    {
     "data": {
      "text/plain": [
       "ACTIVITY DATE           199950\n",
       "OWNER ID                199950\n",
       "OWNER NAME              199950\n",
       "FACILITY ID             199950\n",
       "FACILITY NAME           199950\n",
       "RECORD ID               199950\n",
       "PROGRAM NAME            199950\n",
       "PROGRAM STATUS          199950\n",
       "PROGRAM ELEMENT (PE)    199950\n",
       "PE DESCRIPTION          199950\n",
       "FACILITY ADDRESS        199950\n",
       "FACILITY CITY           199950\n",
       "FACILITY STATE          199950\n",
       "FACILITY ZIP            199950\n",
       "SERVICE CODE            199950\n",
       "SERVICE DESCRIPTION     199950\n",
       "SCORE                   199950\n",
       "GRADE                   199895\n",
       "SERIAL NUMBER           199950\n",
       "EMPLOYEE ID             199950\n",
       "dtype: int64"
      ]
     },
     "execution_count": 2,
     "metadata": {},
     "output_type": "execute_result"
    }
   ],
   "source": [
    "county_datafile = \"data/LOS_ANGELES_COUNTY_RESTAURANT_AND_MARKET_INSPECTIONS.csv\"\n",
    "\n",
    "county_data = pd.read_csv(county_datafile)\n",
    "county_data.count()"
   ]
  },
  {
   "cell_type": "code",
   "execution_count": 16,
   "metadata": {},
   "outputs": [
    {
     "name": "stderr",
     "output_type": "stream",
     "text": [
      "/anaconda3/lib/python3.7/site-packages/ipykernel_launcher.py:3: SettingWithCopyWarning: \n",
      "A value is trying to be set on a copy of a slice from a DataFrame.\n",
      "Try using .loc[row_indexer,col_indexer] = value instead\n",
      "\n",
      "See the caveats in the documentation: http://pandas.pydata.org/pandas-docs/stable/indexing.html#indexing-view-versus-copy\n",
      "  This is separate from the ipykernel package so we can avoid doing imports until\n"
     ]
    },
    {
     "data": {
      "text/html": [
       "<div>\n",
       "<style scoped>\n",
       "    .dataframe tbody tr th:only-of-type {\n",
       "        vertical-align: middle;\n",
       "    }\n",
       "\n",
       "    .dataframe tbody tr th {\n",
       "        vertical-align: top;\n",
       "    }\n",
       "\n",
       "    .dataframe thead th {\n",
       "        text-align: right;\n",
       "    }\n",
       "</style>\n",
       "<table border=\"1\" class=\"dataframe\">\n",
       "  <thead>\n",
       "    <tr style=\"text-align: right;\">\n",
       "      <th></th>\n",
       "      <th>ACTIVITY DATE</th>\n",
       "      <th>FACILITY ID</th>\n",
       "      <th>FACILITY NAME</th>\n",
       "      <th>PROGRAM STATUS</th>\n",
       "      <th>FACILITY ADDRESS</th>\n",
       "      <th>FACILITY CITY</th>\n",
       "      <th>FACILITY ZIP</th>\n",
       "      <th>SCORE</th>\n",
       "      <th>GRADE</th>\n",
       "    </tr>\n",
       "  </thead>\n",
       "  <tbody>\n",
       "    <tr>\n",
       "      <th>0</th>\n",
       "      <td>2016-06-22</td>\n",
       "      <td>FA0179753</td>\n",
       "      <td>TEA BAR</td>\n",
       "      <td>ACTIVE</td>\n",
       "      <td>954 E ALOSTA AVE</td>\n",
       "      <td>AZUSA</td>\n",
       "      <td>91702</td>\n",
       "      <td>93</td>\n",
       "      <td>A</td>\n",
       "    </tr>\n",
       "    <tr>\n",
       "      <th>1</th>\n",
       "      <td>2016-09-07</td>\n",
       "      <td>FA0239319</td>\n",
       "      <td>SHEFA</td>\n",
       "      <td>ACTIVE</td>\n",
       "      <td>7275 MELROSE AVE</td>\n",
       "      <td>LOS ANGELES</td>\n",
       "      <td>90046</td>\n",
       "      <td>90</td>\n",
       "      <td>A</td>\n",
       "    </tr>\n",
       "    <tr>\n",
       "      <th>2</th>\n",
       "      <td>2016-09-09</td>\n",
       "      <td>FA0071154</td>\n",
       "      <td>SUBWAY</td>\n",
       "      <td>ACTIVE</td>\n",
       "      <td>28788 THE OLD RD</td>\n",
       "      <td>VALENCIA</td>\n",
       "      <td>91355</td>\n",
       "      <td>98</td>\n",
       "      <td>A</td>\n",
       "    </tr>\n",
       "    <tr>\n",
       "      <th>3</th>\n",
       "      <td>2016-04-01</td>\n",
       "      <td>FA0144494</td>\n",
       "      <td>AFC SUSHI @ VONS #3138</td>\n",
       "      <td>ACTIVE</td>\n",
       "      <td>16550 SOLEDAD CANYON RD</td>\n",
       "      <td>CANYON COUNTRY</td>\n",
       "      <td>91387-3215</td>\n",
       "      <td>99</td>\n",
       "      <td>A</td>\n",
       "    </tr>\n",
       "    <tr>\n",
       "      <th>4</th>\n",
       "      <td>2016-04-01</td>\n",
       "      <td>FA0005693</td>\n",
       "      <td>ALBERTS MEXICAN FOOD</td>\n",
       "      <td>INACTIVE</td>\n",
       "      <td>2355 PECK RD</td>\n",
       "      <td>SOUTH EL MONTE</td>\n",
       "      <td>91733</td>\n",
       "      <td>92</td>\n",
       "      <td>A</td>\n",
       "    </tr>\n",
       "  </tbody>\n",
       "</table>\n",
       "</div>"
      ],
      "text/plain": [
       "  ACTIVITY DATE FACILITY ID           FACILITY NAME PROGRAM STATUS  \\\n",
       "0    2016-06-22   FA0179753                 TEA BAR         ACTIVE   \n",
       "1    2016-09-07   FA0239319                   SHEFA         ACTIVE   \n",
       "2    2016-09-09   FA0071154                  SUBWAY         ACTIVE   \n",
       "3    2016-04-01   FA0144494  AFC SUSHI @ VONS #3138         ACTIVE   \n",
       "4    2016-04-01   FA0005693    ALBERTS MEXICAN FOOD       INACTIVE   \n",
       "\n",
       "          FACILITY ADDRESS   FACILITY CITY FACILITY ZIP  SCORE GRADE  \n",
       "0         954 E ALOSTA AVE           AZUSA        91702     93     A  \n",
       "1         7275 MELROSE AVE     LOS ANGELES        90046     90     A  \n",
       "2         28788 THE OLD RD        VALENCIA        91355     98     A  \n",
       "3  16550 SOLEDAD CANYON RD  CANYON COUNTRY   91387-3215     99     A  \n",
       "4             2355 PECK RD  SOUTH EL MONTE        91733     92     A  "
      ]
     },
     "execution_count": 16,
     "metadata": {},
     "output_type": "execute_result"
    }
   ],
   "source": [
    "columns = ['ACTIVITY DATE','FACILITY ID','FACILITY NAME','PROGRAM STATUS','FACILITY ADDRESS','FACILITY CITY','FACILITY ZIP','SCORE','GRADE']\n",
    "cleaned_county_data = county_data[columns]\n",
    "cleaned_county_data['ACTIVITY DATE'] = pd.to_datetime(cleaned_county_data['ACTIVITY DATE'])\n",
    "cleaned_county_data.head()"
   ]
  },
  {
   "cell_type": "code",
   "execution_count": 17,
   "metadata": {},
   "outputs": [
    {
     "name": "stderr",
     "output_type": "stream",
     "text": [
      "/anaconda3/lib/python3.7/site-packages/ipykernel_launcher.py:1: SettingWithCopyWarning: \n",
      "A value is trying to be set on a copy of a slice from a DataFrame\n",
      "\n",
      "See the caveats in the documentation: http://pandas.pydata.org/pandas-docs/stable/indexing.html#indexing-view-versus-copy\n",
      "  \"\"\"Entry point for launching an IPython kernel.\n"
     ]
    },
    {
     "data": {
      "text/html": [
       "<div>\n",
       "<style scoped>\n",
       "    .dataframe tbody tr th:only-of-type {\n",
       "        vertical-align: middle;\n",
       "    }\n",
       "\n",
       "    .dataframe tbody tr th {\n",
       "        vertical-align: top;\n",
       "    }\n",
       "\n",
       "    .dataframe thead th {\n",
       "        text-align: right;\n",
       "    }\n",
       "</style>\n",
       "<table border=\"1\" class=\"dataframe\">\n",
       "  <thead>\n",
       "    <tr style=\"text-align: right;\">\n",
       "      <th></th>\n",
       "      <th>ACTIVITY DATE</th>\n",
       "      <th>FACILITY ID</th>\n",
       "      <th>FACILITY NAME</th>\n",
       "      <th>PROGRAM STATUS</th>\n",
       "      <th>FACILITY ADDRESS</th>\n",
       "      <th>FACILITY CITY</th>\n",
       "      <th>FACILITY ZIP</th>\n",
       "      <th>SCORE</th>\n",
       "      <th>GRADE</th>\n",
       "    </tr>\n",
       "  </thead>\n",
       "  <tbody>\n",
       "    <tr>\n",
       "      <th>94</th>\n",
       "      <td>2016-04-01</td>\n",
       "      <td>FA0002213</td>\n",
       "      <td>RANCHITO MILLAN</td>\n",
       "      <td>ACTIVE</td>\n",
       "      <td>5803 S SOTO ST</td>\n",
       "      <td>HUNTINGTON PARK</td>\n",
       "      <td>90255</td>\n",
       "      <td>94</td>\n",
       "      <td>A</td>\n",
       "    </tr>\n",
       "    <tr>\n",
       "      <th>12</th>\n",
       "      <td>2016-04-01</td>\n",
       "      <td>FA0004764</td>\n",
       "      <td>BALDWIN OIL</td>\n",
       "      <td>ACTIVE</td>\n",
       "      <td>13758 LOS ANGELES ST</td>\n",
       "      <td>BALDWIN PARK</td>\n",
       "      <td>91706</td>\n",
       "      <td>98</td>\n",
       "      <td>A</td>\n",
       "    </tr>\n",
       "    <tr>\n",
       "      <th>14</th>\n",
       "      <td>2016-04-01</td>\n",
       "      <td>FA0004876</td>\n",
       "      <td>BANQUET KITCHEN</td>\n",
       "      <td>ACTIVE</td>\n",
       "      <td>135 N GRAND AVE</td>\n",
       "      <td>LOS ANGELES</td>\n",
       "      <td>90012</td>\n",
       "      <td>97</td>\n",
       "      <td>A</td>\n",
       "    </tr>\n",
       "    <tr>\n",
       "      <th>5</th>\n",
       "      <td>2016-04-01</td>\n",
       "      <td>FA0005575</td>\n",
       "      <td>ALL STAR PARK COMPANY</td>\n",
       "      <td>INACTIVE</td>\n",
       "      <td>17911 S BELLFLOWER BLVD</td>\n",
       "      <td>BELLFLOWER</td>\n",
       "      <td>90706</td>\n",
       "      <td>91</td>\n",
       "      <td>A</td>\n",
       "    </tr>\n",
       "    <tr>\n",
       "      <th>17</th>\n",
       "      <td>2016-04-01</td>\n",
       "      <td>FA0005633</td>\n",
       "      <td>BIG O LIQUIOR</td>\n",
       "      <td>INACTIVE</td>\n",
       "      <td>4626 S VERMONT AVE</td>\n",
       "      <td>LOS ANGELES</td>\n",
       "      <td>90037</td>\n",
       "      <td>95</td>\n",
       "      <td>A</td>\n",
       "    </tr>\n",
       "  </tbody>\n",
       "</table>\n",
       "</div>"
      ],
      "text/plain": [
       "   ACTIVITY DATE FACILITY ID          FACILITY NAME PROGRAM STATUS  \\\n",
       "94    2016-04-01   FA0002213        RANCHITO MILLAN         ACTIVE   \n",
       "12    2016-04-01   FA0004764            BALDWIN OIL         ACTIVE   \n",
       "14    2016-04-01   FA0004876        BANQUET KITCHEN         ACTIVE   \n",
       "5     2016-04-01   FA0005575  ALL STAR PARK COMPANY       INACTIVE   \n",
       "17    2016-04-01   FA0005633          BIG O LIQUIOR       INACTIVE   \n",
       "\n",
       "           FACILITY ADDRESS    FACILITY CITY FACILITY ZIP  SCORE GRADE  \n",
       "94           5803 S SOTO ST  HUNTINGTON PARK        90255     94     A  \n",
       "12     13758 LOS ANGELES ST     BALDWIN PARK        91706     98     A  \n",
       "14          135 N GRAND AVE      LOS ANGELES        90012     97     A  \n",
       "5   17911 S BELLFLOWER BLVD       BELLFLOWER        90706     91     A  \n",
       "17       4626 S VERMONT AVE      LOS ANGELES        90037     95     A  "
      ]
     },
     "execution_count": 17,
     "metadata": {},
     "output_type": "execute_result"
    }
   ],
   "source": [
    "cleaned_county_data.sort_values(by = [\"ACTIVITY DATE\",\"FACILITY ID\",\"FACILITY ADDRESS\"],inplace = True,ascending=True)\n",
    "cleaned_county_data.head()"
   ]
  },
  {
   "cell_type": "code",
   "execution_count": 18,
   "metadata": {},
   "outputs": [
    {
     "data": {
      "text/plain": [
       "ACTIVITY DATE       44581\n",
       "FACILITY ID         44581\n",
       "FACILITY NAME       44581\n",
       "PROGRAM STATUS      44581\n",
       "FACILITY ADDRESS    44581\n",
       "FACILITY CITY       44581\n",
       "FACILITY ZIP        44581\n",
       "SCORE               44581\n",
       "GRADE               44563\n",
       "dtype: int64"
      ]
     },
     "execution_count": 18,
     "metadata": {},
     "output_type": "execute_result"
    }
   ],
   "source": [
    "unique_county_data = cleaned_county_data.drop_duplicates(subset = ['FACILITY ID'], keep = 'last')\n",
    "unique_county_data.count()"
   ]
  },
  {
   "cell_type": "code",
   "execution_count": 19,
   "metadata": {},
   "outputs": [
    {
     "data": {
      "text/plain": [
       "ACTIVITY DATE       36474\n",
       "FACILITY ID         36474\n",
       "FACILITY NAME       36474\n",
       "PROGRAM STATUS      36474\n",
       "FACILITY ADDRESS    36474\n",
       "FACILITY CITY       36474\n",
       "FACILITY ZIP        36474\n",
       "SCORE               36474\n",
       "GRADE               36462\n",
       "dtype: int64"
      ]
     },
     "execution_count": 19,
     "metadata": {},
     "output_type": "execute_result"
    }
   ],
   "source": [
    "unique_county_data = unique_county_data.loc[(unique_county_data['PROGRAM STATUS'] != \"INACTIVE\"),:]\n",
    "unique_county_data.count()"
   ]
  },
  {
   "cell_type": "code",
   "execution_count": 20,
   "metadata": {},
   "outputs": [
    {
     "data": {
      "text/plain": [
       "ACTIVITY DATE       36462\n",
       "FACILITY ID         36462\n",
       "FACILITY NAME       36462\n",
       "PROGRAM STATUS      36462\n",
       "FACILITY ADDRESS    36462\n",
       "FACILITY CITY       36462\n",
       "FACILITY ZIP        36462\n",
       "SCORE               36462\n",
       "GRADE               36462\n",
       "dtype: int64"
      ]
     },
     "execution_count": 20,
     "metadata": {},
     "output_type": "execute_result"
    }
   ],
   "source": [
    "unique_county_data = unique_county_data.dropna(how='any')\n",
    "unique_county_data.count()"
   ]
  },
  {
   "cell_type": "code",
   "execution_count": null,
   "metadata": {},
   "outputs": [],
   "source": []
  },
  {
   "cell_type": "code",
   "execution_count": null,
   "metadata": {},
   "outputs": [],
   "source": []
  }
 ],
 "metadata": {
  "kernelspec": {
   "display_name": "Python 3",
   "language": "python",
   "name": "python3"
  },
  "language_info": {
   "codemirror_mode": {
    "name": "ipython",
    "version": 3
   },
   "file_extension": ".py",
   "mimetype": "text/x-python",
   "name": "python",
   "nbconvert_exporter": "python",
   "pygments_lexer": "ipython3",
   "version": "3.7.0"
  }
 },
 "nbformat": 4,
 "nbformat_minor": 2
}
